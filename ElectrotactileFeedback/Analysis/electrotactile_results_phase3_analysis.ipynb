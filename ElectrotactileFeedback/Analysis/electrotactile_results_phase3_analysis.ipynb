{
 "cells": [
  {
   "cell_type": "code",
   "execution_count": 74,
   "metadata": {},
   "outputs": [],
   "source": [
    "import matplotlib.pyplot as plt\n",
    "import itertools\n",
    "import numpy as np\n",
    "import pandas as pd\n",
    "from wordcloud import WordCloud, STOPWORDS\n",
    "import os\n",
    "from os.path import isfile, join\n",
    "import seaborn as sns\n",
    "import pandas as pd"
   ]
  },
  {
   "cell_type": "code",
   "execution_count": 65,
   "metadata": {},
   "outputs": [
    {
     "data": {
      "application/javascript": [
       "IPython.OutputArea.auto_scroll_threshold = 9999\n"
      ],
      "text/plain": [
       "<IPython.core.display.Javascript object>"
      ]
     },
     "metadata": {},
     "output_type": "display_data"
    }
   ],
   "source": [
    "%%javascript\n",
    "IPython.OutputArea.auto_scroll_threshold = 9999"
   ]
  },
  {
   "cell_type": "code",
   "execution_count": 66,
   "metadata": {},
   "outputs": [],
   "source": [
    "results_path = \"..\\\\NativeApp\\\\results3\"\n",
    "result_files = [join(results_path, i) for i in os.listdir(results_path) if isfile(join(results_path, i))]\n",
    "result_files.sort()\n",
    "usr_res_files = [list(i) for j, i in itertools.groupby(result_files, lambda a: (a.split('\\\\')[-1].split('_')[0]))]"
   ]
  },
  {
   "cell_type": "code",
   "execution_count": 80,
   "metadata": {},
   "outputs": [
    {
     "name": "stderr",
     "output_type": "stream",
     "text": [
      "<ipython-input-80-12f79e719a82>:6: VisibleDeprecationWarning: Creating an ndarray from ragged nested sequences (which is a list-or-tuple of lists-or-tuples-or ndarrays with different lengths or shapes) is deprecated. If you meant to do this, you must specify 'dtype=object' when creating the ndarray.\n",
      "  return np.array(all_content)\n"
     ]
    }
   ],
   "source": [
    "def process_files(files):\n",
    "    all_content = []\n",
    "    for file in files:\n",
    "        with open(file) as f:\n",
    "            all_content.append([i.split(',') for i in f.read().strip().split('\\n')])\n",
    "    return np.array(all_content)\n",
    "        \n",
    "numpad_no_tactile = process_files(list(filter(lambda s: \"Numpad_NoTactile\" in s, result_files)))\n",
    "numpad_tactile = process_files(list(filter(lambda s: \"Numpad_Tactile\" in s, result_files)))\n",
    "text_no_tactile = process_files(list(filter(lambda s: \"Text_NoTactile\" in s, result_files)))\n",
    "text_tactile = process_files(list(filter(lambda s: \"Text_Tactile\" in s, result_files)))\n"
   ]
  },
  {
   "cell_type": "code",
   "execution_count": 183,
   "metadata": {},
   "outputs": [],
   "source": [
    "def format_response(response):\n",
    "    split = response.split(\" \")\n",
    "    new = []\n",
    "    original = []\n",
    "    for e,c in enumerate(split):\n",
    "        if e > 0 and c == '' and c == split[e-1]:\n",
    "            continue\n",
    "        else:\n",
    "            new.append(c)\n",
    "            \n",
    "    return new\n",
    "\n",
    "def compute_avg_time(data):\n",
    "    return np.mean(data[:,:,1].astype(np.float64), axis=1), np.std(data[:,:,1].astype(np.float64), axis=1)\n",
    "\n",
    "def compute_avg_accuracy(data):\n",
    "    for d in data:\n",
    "        print(list(map(format_response, d[:,0])))"
   ]
  },
  {
   "cell_type": "code",
   "execution_count": 184,
   "metadata": {},
   "outputs": [
    {
     "name": "stdout",
     "output_type": "stream",
     "text": [
      "[['o', '\\x08', 'a', 'n', '', 'o', 'c', 'c', 'a', 's', 'i', 'o', 'n', 'a', 'l', '', 't', 'a', 's', 't', 'e', '', 'o', 'f', '', 'c', 'h', 'o', 'l', '\\x08', 'c', 'o', 'l', 'a', 't', 'e', 'd', '\\x08'], ['a', 'n', '', 'i', 'n', 'e', 'f', 'f', 'i', 'c', 'i', 'e', 'n', 't', '', 'w', 'a', 'y', '', 't', 'o', '', 'h', 'e', 'a', 't', '', 'a', '', 'h', 'o', 'u', 's', 'e'], ['e', 'l', 'e', 'c', 't', 'r', '\\x08', 'i', 'o', 'n', 's', '', 'b', 'r', 'i', 'i', 'i', '\\x08', '\\x08', 'n', 'g', '', 'o', 'u', 't', '', 't', 'h', 'e', '', 'b', 'e', 's', 't'], ['a', '', 'g', 'o', 'o', 'd', '', 's', 't', 'i', 'm', 'u', 'l', 'u', 's', '', 'd', 'e', 'v', 'e', 'r', 's', 'v', '\\x08', '\\x08', '\\x08', '\\x08', '\\x08', 's', 'e', 'r', 'v', 'e', 's', '', 'a', '', 'g', 'o', 'o', 'd', '', 'r', 'e', 's', 'p', 'o', 'n', 's', 'e'], ['a', '', 'p', 'r', 'o', 'b', 'l', 'e', 'm', '', 'w', 'i', 't', 'h', '', 't', 'h', 'e', '', 'e', 'n', 'd', 'i', 'n', 'g', '\\x08', '\\x08', '\\x08', '\\x08', 'g', 'i', 'n', 'e'], ['a', 'r', 'g', 'u', 'i', 'n', 'g', '', 't', '\\x08', 'w', 'i', 't', 'h', '', 't', 'h', 'e', '', 'b', 'o', 's', 's', '', 'i', 's', '', 'f', 'u', 't', 'i', 'l', 'e'], ['t', 'h', 'e', '', 's', 't', 'o', 'c', 'k', '', 'e', 'x', 'c', 'h', 'a', 'n', 'g', 'e', '', 'd', '\\x08', 'd', 'i', 'p', 'p', 'e', 'd'], ['o', 'u', 'r', '', 'h', 'o', 'u', 's', 'e', 'k', 'e', 'e', 'p', 'e', 'r', '', 'd', 'o', 'e', 's', '', 'a', '', 't', 'h', 'o', 'r', 'o', 'u', 'g', 'h', 't', '\\x08', '', 'j', 'o', 'b'], ['k', 'n', 'e', 'e', '', 'b', 'o', 'n', 'e', '', 'i', 's', '', 'c', 'o', 'n', 'n', 'e', 'c', 't', 'e', 'd', '', 't', 'o', '', 't', 'h', 'e', '', 't', 'i', 'g', '\\x08', '\\x08', 'h', 'i', 'g', 'h', '', 'b', 'o', 'n', 'e'], ['m', 'y', '', 'c', 'a', 'r', '', 'a', 'l', 'w', 'a', 'y', 's', '', 'b', 'r', 'e', 'a', 'k', 's', '', 'i', 'n', '', 't', 'h', 'e', '', 'w', 'i', 'n', 't', 'e', 'r']]\n",
      "[['c', 'a', 'r', 'e', 'l', 'e', 's', 's', '', 'd', 'r', 'i', 'v', 'i', 'n', 'g', '', 'r', 'e', 's', 'y', '\\x08', 'u', 'l', 't', 's', '', 'i', 'n', '', 'a', '', 'f', 'i', 'e', '\\x08', 'n', 'e'], ['t', 'r', 'a', 'v', 'e', 'l', 'l', 'i', 'n', 'g', '', 't', 'o', '', 'c', 'o', 'n', 'f', 'e', 'r', 'e', 'n', 'c', 'e', 's', '', 'i', 's', '', 'f', 'u', 'n', '\\x08', '\\x08', '\\x08', '\\x08', '\\x08', '\\x08', '\\x08', '\\x08', '\\x08', '\\x08', '\\x08', '\\x08', '\\x08', '\\x08', '\\x08', '\\x08', '\\x08', '\\x08', '\\x08', '\\x08', '\\x08', '\\x08', '\\x08', '\\x08', '\\x08', '\\x08', 'i', 'n', 'g', '', 't', 'o', '', 'c', 'o', 'n', 'f', 'e', 'r', 'e', 'n', 'c', 'e', 's', '', 'i', 's', '', 'f', 'u', 'n'], ['u', 'n', 'i', 'v', 'e', 'r', 's', 'a', 'l', 'l', 'y', '', 'u', 'n', 'd', 'e', 'r', 's', 't', 'o', 'o', 'd', '', 't', 'o', '', 'b', 'e', '', 'w', 'r', 'o', 'n', 'g'], ['t', 'h', 'i', 's', '', 'w', 'a', 't', 'c', 'h', '', 'i', 's', '', 't', 'o', 'o', '', 'e', 'x', 'p', 'e', 'n', 's', 'i', 'v', 'e'], ['a', '', 'g', 'o', 'o', 'd', '', 'r', 'e', 's', 'p', 'o', 'n', 's', 'e', '', 't', 'o', '', 't', 'h', 'e', '', 'q', 'u', 'e', 's', 't', 'i', 'o', 'n'], ['w', 'e', '', 'b', 'e', 't', 't', 'e', 'r', '', 'i', 'n', 'v', 'e', 's', 't', 'i', 'g', 'a', 'r', 'e', '\\x08', '\\x08', 't', 'e', '', 't', 'h', 'i', 's'], ['w', 'h', 'e', 'r', 'e', '', 'c', 'a', 'n', '', 'm', 'y', '', 'l', 'i', 't', 't', 'l', 'e', '', 'd', 'o', 'g', '', 'b', 'e'], ['n', 'o', '', 'e', 'x', 'c', 'h', 'a', 'n', 'g', 'e', '', 'w', 'i', 't', 'h', 'o', 'u', 't', '', 'a', '', 'b', 'i', 'l', 'l'], ['h', 'e', '', 'p', 'l', 'a', 'y', 'e', 'd', '', 'a', '', 'p', 'i', 'm', 'p', '', 'i', 'n', '', 't', 'h', 'a', 't', '', 'm', 'o', 'v', 'i', 'e'], ['y', 'o', 'u', '', 'm', 'u', 's', 't', '', 't', 'a', 'k', 'e', '', 'a', '=', '=', '\\x08', '\\x08', '\\x08', '\\x08', '\\x08', '\\x08', '\\x08', '\\x08', 'm', 'a', 'k', 'e', '', 'a', 'n', '', 'a', 'p', 'p', 'o', 'i', 'n', 't', 'm', 'e', 'n', 't']]\n",
      "[['r', 'e', 'j', 'e', 'c', 't', 't', 'i', 'o', 'n', '', 'l', 'e', 't', 't', 'e', 'r', 's', '', 'a', 'e', '\\x08', 'r', 'e', '', 'd', 'i', 's', 'c', 'o', 'u', 'r', 'i', 'n', 'g', '\\x08', '\\x08', '\\x08', 'a', 'g', 'i', 'n', 'g', '\\x08', '\\x08', '\\x08', '\\x08', '\\x08', '\\x08', '\\x08', '\\x08', '\\x08', '\\x08', '\\x08', '\\x08', '\\x08', '\\x08', '\\x08', '\\x08', '\\x08', '\\x08', '\\x08', '\\x08', '\\x08', '\\x08', '\\x08', '\\x08', '\\x08', '\\x08', '\\x08', '\\x08', '\\x08', 'i', 'o', 'n', '', 'l', 'e', 't', 't', 'e', 'r', 's', '', 'a', 'r', 'e', '', 'd', 'i', 's', 'c', 'o', 'u', 'r', '\\x08', 'r', 'a', 'g', 'i', 'n', 'g'], ['a', '', 'g', 'o', 'o', 'd', '', 'r', 'e', 'p', 's', '\\x08', '\\x08', 's', 'p', 'o', 'n', 's', 'e', '', 't', 'o', '', 't', 'h', 'e', '', 'q', 'u', 'e', 's', 't', 'i', 'o', 'n'], ['b', 'e', '', 'd', 'i', 's', 'c', 'r', 'e', 'e', 't', '', 'a', 'b', 'o', 'u', 't', '', 'y', 'o', 'u', 'r', '', 'm', 'e', 't', 't', 'i', 'n', 'g', '\\x08', '\\x08', '\\x08', '\\x08', '\\x08', '\\x08', '\\x08', '\\x08', '\\x08', '\\x08', '\\x08', '\\x08', '\\x08', '\\x08', 't', '', 'y', 'o', 'u', 'r', '', 'm', 'e', 'e', 't', 'i', 'n', 'g'], ['t', 'h', 'a', 't', '', 'a', 'r', 'g', 'r', 'e', 'm', 'e', '\\x08', '\\x08', 'e', 'm', 'e', 'n', 't', '', 'i', 's', '', 'r', 'i', 'f', 'e', '', 'w', 'i', 't', 'h', '', 'p', 'r', 'o', 'b', 'e', 'l', 'm', 's', '\\x08', '\\x08', '\\x08', '\\x08', '\\x08', 'b', 'l', 'e', 'm', 's', '\\x08', '\\x08', '\\x08', '\\x08', '\\x08', '\\x08', '\\x08', '\\x08', '\\x08', '\\x08', '\\x08', '\\x08', '\\x08', '\\x08', '\\x08', '\\x08', '\\x08', 'i', 'f', 'e', '', 'w', 'i', 't', 'h', '', 'p', 'r', 'o', 'b', 'l', 'e', 'm', 's', '\\x08', 's', '\\x08', '\\x08', '\\x08', '\\x08', '\\x08', '\\x08', '\\x08', '\\x08', '\\x08', '\\x08', '\\x08', '\\x08', '\\x08', '\\x08', '', 'w', 'i', 't', 'h', '', 'r', 'p', 'o', 'b', 'l', 'e', 'm', '\\x08', '\\x08', '\\x08', '\\x08', '\\x08', '\\x08', '\\x08', 'p', 'r', 'o', 'n', '\\x08', 'b', 'l', 'e', 'm', 's', '\\x08', '\\x08', '\\x08', '\\x08', '\\x08', '\\x08', '\\x08', '\\x08', '\\x08', '\\x08', '\\x08', '\\x08', '\\x08', '\\x08', '\\x08', '\\x08', '\\x08', '\\x08', '\\x08', '\\x08', '\\x08', '\\x08', '\\x08', '\\x08', '\\x08', '\\x08', '\\x08', '\\x08', '\\x08', '\\x08', '\\x08', '\\x08', '\\x08', '\\x08', '\\x08', '\\x08', '\\x08', '\\x08', 't', 'h', 'a', 't', '', 'a', 'g', 'r', 'e', 'e', 'm', 'e', 'n', 't', 's', '', 'i', 's', '', 'r', 'i', 'f', 'e', '', 'w', 'i', 't', 'h', '', 'p', 'r', 'o', 'b', 'e', 'l', 'm', 's', '', '#', '\\x08', '\\x08', '\\x08', '\\x08', '\\x08', '\\x08', 'l', 'e', 'm', 's', '\\x08', '\\x08', '\\x08', '\\x08', '\\x08', '\\x08', '\\x08', '\\x08', '\\x08', '\\x08', '\\x08', '\\x08', '\\x08', '\\x08', '\\x08', '\\x08', '\\x08', '\\x08', '\\x08', '\\x08', '\\x08', '\\x08', '\\x08', '', 'i', 's', '', 'r', 'i', 'g', 'e', '\\x08', '\\x08', 'f', 'e', '', 'w', 'i', 't', 'h', '', 'p', 'r', 'o', 'b', 'l', 'e', 'm', 's'], ['t', 'h', 'i', 's', '', 'w', 'a', 't', 'c', 'h', '', 'i', 's', '', 't', 'o', 'o', '', 'e', 'x', 'p', 'e', 'n', 's', 'i', 'v', 'e'], ['c', 'o', 'm', 'i', 'n', 'g', '', 'u', 'p', '', 'w', 'i', 't', 'h', '', 'k', 'i', 'l', 'l', 'e', 'r', '', 's', 'o', 'u', 'n', 'd', '', 'b', 'i', 't', 'e', 's'], ['a', '', 'q', 'u', 'a', 'r', 't', 'e', 'r', '', 'o', 'f', '', 'a', 'c', 'e', 'n', '\\x08', '\\x08', '\\x08', '', 'c', 'e', 'n', 't', 'u', 'r', 'y', '', '\\x08'], ['t', 'r', 'a', 'v', 'e', 'l', '', 'a', 't', '', 't', 'h', 'e', '', 's', 'p', 'e', 'e', 'd', '', 'i', '\\x08', 'o', 'f', '', 'l', 'i', 'g', 'h', 't'], ['n', 'o', '', 'k', 'i', 's', 's', 'i', 'n', 'g', '', 'i', 'n', '', 't', 'h', 'e', '', 'l', 'i', 'b', 'r', 'a', 'r', 'y'], ['t', 'r', 'y', '', 't', 'o', '', 'e', 'n', 'j', 'o', 'y', '', 'y', 'o', 'u', 'r', '', 'm', 'a', 't', 'e', 'r', 'n', 'i', 't', 'y', '', 'l', 'e', 'a', 'v', 'e']]\n",
      "[['d', 'o', 'r', 'm', 'i', 't', 'o', 'r', 'y', '', 'd', 'o', 'o', 'r', 's', '', 'a', 'r', 'e', '', 'l', 'o', 'c', 'k', 'e', 'd', '', 'a', 't', '', 'm', 'i', 'd', 'n', 'i', 'g', 'h', 't'], ['t', 'h', 'e', '', 'd', 'o', 'g', '', 'b', 'u', 'r', 'i', 'e', 'd', '', 't', 'h', 'e', '', 'b', 'o', 'n', 'e'], ['t', 'h', 'e', '', 'm', 'o', 's', 't', '', 'b', 'e', 'a', 'u', 't', 'i', 'f', 'u', 'l', '', 's', 'u', 'n', 's', 'e', 't'], ['o', 'u', 'r', '', 'h', 'o', 'u', 's', 'e', 'w', 'e', 'e', '\\x08', '\\x08', '\\x08', 'k', 'e', 'e', 'p', 'e', 'r', '', 'd', 'o', 'e', 's', '', 'a', '', 'r', 'h', '\\x08', '\\x08', 't', 'h', 'r', '\\x08', 'r', '\\x08', 'o', 'r', 'o', 'u', 'g', 'h', '', 'j', 'o', 'b'], ['t', 'h', 'e', '', 'e', 'v', 'l', 'e', '\\x08', '\\x08', 'e', 'l', 'a', '\\x08', '\\x08', '\\x08', '\\x08', 'l', 'e', 'v', 'a', 't', 'o', 'r', '', 'd', 'o', 'o', 'r', 's', '', 'a', '\\x08', '\\x08', '\\x08', '\\x08', 'r', '', 'a', 'p', 'p', 'e', 'a', 'r', 's', '', 't', 'o', '', 'b', 'e', '', 's', 't', 'u', 'c', 'k'], ['h', 'a', 'n', 'd', 'i', 'c', 'a', 'p', 'p', 'e', 'd', '', 'p', 'e', 'r', 's', 'o', 'n', 's', '', 'n', 'e', 'e', 'd', '', 'c', 'o', 'n', 's', 'i', 'd', 'e', 'r', 'a', 't', 'i', 'o', 'n'], ['a', '', 'g', 'o', 'o', 'd', '', 'r', 'e', 'p', 'o', '\\x08', '\\x08', 's', 'p', 'o', 'n', 's', 'e', '', 't', 'o', '', 't', 'h', 'e', '', 'q', 'u', 'e', 's', 't', 'i', 'o', 'n'], ['p', 'l', 'e', 'a', 's', 'e', '', 't', 'a', 'k', 'e', '', 'a', '', 'b', 'a', 't', 'h', '', 't', 'h', 'i', 's', '', 'm', 'o', 't', '\\x08', 'n', 't', 'h'], ['r', 'a', 'p', 'i', 'd', 'l', 'y', '', 'r', 'u', '\\x08', 'u', 'n', 'n', 'i', 'n', 'g', '', 's', 'h', 'o', 'r', 't', '', 'o', 'n', '', 'w', 'o', 'r', 'd', 's'], ['m', 'a', 'y', '\\x08', '\\x08', 'y', '', 'f', 'a', 'v', 'o', 'u', 'r', 'i', 't', 'e', '', 's', 'u', 'b', '\\x08', '\\x08', '\\x08', '\\x08', '\\x08', '\\x08', '\\x08', '\\x08', '\\x08', 'r', 'i', 't', 'e', '', 's', 'u', 'b', 'j', 'e', 'c', 't', '', 'i', 's', '', 'p', 's', 'y', 'c', 'h', 'o', 'l', 'o', 'g', 'y']]\n",
      "[['h', 'e', '', 'u', 'n', 'd', 'e', 'r', 'w', 'n', 't', '', '\\x08', '\\x08', '\\x08', 'e', 'n', 't', '', 't', 'r', 'i', 'p', 'l', 'e', '', 'b', 'y', 'p', 'a', 's', 's', '', 's', 'u', 'r', 'h', '\\x08', 'g', 'e', 'r', 'y'], ['d', 'r', 'o', 'v', 'e', '', 'm', 'y', '', 'c', 'h', 'e', 'v', 'y', '', 't', 'o', '', 't', 'h', 'e', '', 'l', 'e', 'v', 'e', 'e'], ['s', 'p', 'e', '\\x08', 'r', 'a', 'w', 'l', 'i', 'n', 'g', '', 's', 'u', 'b', 'd', 'i', 'v', 'i', 's', 'i', 'o', 'n', 's', '', 'a', 'r', 'e', '', 'b', 'a', 'd'], ['t', 'h', 'e', '', 't', 'r', 'a', 'i', 'n', 's', '', 'a', 'r', 'e', '', 'a', 'l', 'w', 'a', 'y', 's', '', 'l', 'a', 't', 'e'], ['t', 'h', 'a', 't', '', 'i', 's', '', 'v', 'e', 'r', 'y', '', 'u', 'n', 'f', 'o', 'r', 't', 'u', 'n', 'a', 't', 'e'], ['s', 'u', 'b', 'u', 'r', 'b', 's', '', 'a', 'r', 'e', '', 's', 'p', 'r', 'a', 'w', 'l', 'i', 'n', 'g', '', 'u', 'p', '', 'e', 'v', 'e', 'r', 'y', 'w', 'h', 'e', 'r', 'e'], ['a', '', 'p', 'i', 'c', 't', 'u', 'r', 'e', '', 'i', 's', '', 'w', 'o', 'r', 't', 'h', '', 'm', 'a', 'n', 'y', '', 'w', 'o', 'r', 'd', 's'], ['p', 'l', 'e', 'a', 's', 'e', '', 't', 'h', '\\x08', 'a', 'l', '\\x08', 'k', 'e', '', 'a', '', 'b', 'a', 't', 'h', '', 't', 'h', 'i', 's', '', 'm', 'o', 'n', 't', 'h'], ['t', 'h', 'i', 's', '', 'w', 'a', 't', 'c', 'h', '', 'i', 's', '', 't', 'o', 'o', '', 'e', 'x', 'p', 'e', 'n', 's', 'i', 'v', 'e'], ['', 'I', '', 't', 'o', 'o', 'k', '', 't', 'h', 'e', '', 'r', 'o', 'v', 'e', 'r', '', 't', 'o', '', '\\x08', '\\x08', '\\x08', 'f', 'r', 'o', 'm', '', 't', 'h', 'e', '', 's', 'h', 'o', 'p']]\n",
      "[['t', 'h', 'e', '', 'd', 'a', 'r', 'i', 'n', 'g', '', 'y', 'o', 'u', 'n', 'g', '', 'm', 'a', 'n'], ['b', 'e', 'w', 'a', 'r', 'e', '', 't', 'h', 'e', '', 'i', 'd', 'e', 's', '', 'o', 'f', '', 'M', 'a', 'r', 'h', '\\x08', 'c', 'h'], ['a', '', 'p', 'i', 'c', 't', 'u', 'r', 'e', '', 'i', 's', '', 'w', 'o', 'r', 't', 'h', '', 'm', 'a', 'n', 'y', '', 'w', 'o', 'r', 'd', 's'], ['', 'I', '', 'l', 'i', 'k', 'e', '', 't', 'o', '', 'p', 'l', 'a', 'y', '', 't', 'e', 'n', 'n', 'i', 's'], ['f', 'i', 'n', 'd', '', 'b', 'u', 't', '', 'o', 'o', 'n', '\\x08', '\\x08', 'n', 'l', 'y', '', 'i', 'n', '', 'm', 'o', 'd', 'e', 'r', 'a', 't', 'i', 'o', 'n', '\\x08', '\\x08', '\\x08', '\\x08', '\\x08', '\\x08', '\\x08', '\\x08', '\\x08', '\\x08', '\\x08', '\\x08', '\\x08', '\\x08', '\\x08', '\\x08', '\\x08', '\\x08', '\\x08', '\\x08', '\\x08', '\\x08', '\\x08', '\\x08', 'e', '', 'b', 'u', 't', '', 'o', 'n', 'l', 'y', '', 'i', 'n', '', 'm', 'o', 'd', 'e', 'r', 'a', 't', 'i', 'o', 'n'], ['n', 'e', 'v', 'e', 'r', '', 'm', 'i', 'x', '', 'r', 'i', 'l', 'i', 'g', 'i', 'o', '\\x08', '\\x08', '\\x08', '\\x08', '\\x08', '\\x08', 'e', 'l', 'i', 'g', 'i', 'o', 'n', '', 'a', 'n', 'd', '', 'p', 'o', 'l', 'i', 't', 'i', 'c', 's'], ['i', 'r', 'r', 'e', 'g', 'u', 'l', 'a', 'r', '', 'v', 'e', 'r', 'b', 's', '', 'a', 'r', 'e', '', 't', 'e', 'h', '', 'h', 'a', 'r', 'd', '\\x08', '\\x08', '\\x08', '\\x08', '\\x08', '\\x08', '\\x08', 'h', 'e', '', 'h', 'a', 'r', 'd', 'e', 's', 't', '', 't', 'o', '', 'l', 'e', 'a', 'r', 'n'], ['p', 'p', '\\x08', 'o', 'p', 'u', 'l', 'a', 'r', 'i', 't', 'y', '', 'i', 's', '', 'd', 'e', 's', 'i', 'r', 'e', 'd', '', 'b', 'y', '', 'a', 'l', 'l'], ['a', '', 'y', 'a', 'r', 'd', '', 'i', 's', '', 'a', 'l', 'm', 'o', 's', 't', '', 'a', 's', '', 'l', 'o', 'n', 'g', '', 'a', 's', '', 'a', '', 'm', 'e', 't', 'e', 'r'], ['s', 'h', 'a', 'r', 'p', '', 'c', 'h', 'e', 'e', 's', 'e', '', 'k', 'e', 'e', 'p', 's', '', 't', 'h', 'e', '', 'm', 'i', 'n', 'd', '', 's', 'h', 'a', 'r', 'p']]\n",
      "[['d', 'a', 's', 'h', 'i', 'n', 'g', '', 't', 'h', 'r', 'o', 'u', 'g', 'h', '', 't', 'h', 'e', '', 'n', '\\x08', 's', 'n', 'o', 'w'], ['w', 'o', 'r', 'l', 'd', '', 'p', 'o', 'p', 'u', 'l', 'a', 't', 'i', 'o', 'n', '', 'i', 's', '', 'g', 'r', 'o', 'w', 'i', 'n', 'g'], ['c', 'a', 'r', 'e', 'l', 'e', 's', 's', '', 'd', 'r', 'i', 'v', 'i', 'n', 'g', '', 'r', 'e', 's', 'u', 'l', 't', 's', '', 'i', 'n', '', 'a', '', 'f', 'i', 'n', 'e'], ['a', 'p', 'a', 'r', 't', 'm', 'e', 'n', 't', 's', '', 'a', 'r', 'e', '', 't', 'o', 'o', '', 'e', 'x', 'p', 'e', 's', '\\x08', 'n', 's', 'i', 'v', 'e'], ['i', 'm', 'p', 'o', 'r', 't', 'a', 'n', 't', '', 'n', 'e', 'w', '', '\\x08', 's', '', 'a', 'l', 'w', 'a', 'y', 's', '', 's', 'e', 'e', 'm', 's', '', 't', 'o', '', 'b', 'e', '', 'l', 'a', 't', 'e'], ['n', 'e', 'v', 'e', 'r', '', 'm', 'i', 'x', '', 'r', 'e', 'l', 'i', 'g', 'i', 'o', 'n', '', 'a', 'n', 'd', '', 'p', 'o', 'l', 'i', 't', 'i', 'c', 's'], ['', 'I', '', 'l', 'i', 's', 't', 'e', 'n', '', 't', 'o', '', 't', 'h', 'e', '', 't', 'a', 'p', 'e', '', 'e', 'v', 'e', 'r', 'y', 'd', 'a', 'y'], ['w', 'e', '', 'a', 'r', 'e', '', 's', 'u', 'b', 'j', 'e', 'c', 't', 's', '', 'a', 'n', 'd', '', 'm', 'u', 's', 't', '', 'o', 'b', 'j', '\\x08', 'e', 'y'], ['t', 'h', 'e', '', 'd', 'a', 'r', 'i', 'n', 'g', '', 'y', 'o', 'u', '', '\\x08', 'n', 'g', '', 'm', 'a', 'n'], ['p', 'e', 'e', 'r', 'i', 'n', 'g', '', 't', 'h', 'r', 'o', 'u', 'g', 'h', '', 'a', '', 's', 'm', 'a', 'l', 'l', '', 'h', 'o', 'l', 'd', '\\x08', 'e']]\n"
     ]
    }
   ],
   "source": [
    "class PerformanceStats():\n",
    "    def __init__(self, raw_response, mean_time, std_time, mean_accuracy, std_accuracy):\n",
    "        self.raw_response = raw_response\n",
    "        self.mean_time = mean_time\n",
    "        self.std_time = std_time\n",
    "        self.mean_accuracy = mean_accuracy\n",
    "        self.std_accuracy = std_accuracy\n",
    "\n",
    "mean_num_no_tactile, std_num_no_tactile = compute_avg_time(numpad_no_tactile)\n",
    "compute_avg_accuracy(text_tactile)\n",
    "\n",
    "#list(zip(numpad_no_tactile, mean_num_no_tactile, std_num_no_tactile))"
   ]
  },
  {
   "cell_type": "code",
   "execution_count": null,
   "metadata": {},
   "outputs": [],
   "source": []
  }
 ],
 "metadata": {
  "kernelspec": {
   "display_name": "Python 3",
   "language": "python",
   "name": "python3"
  },
  "language_info": {
   "codemirror_mode": {
    "name": "ipython",
    "version": 3
   },
   "file_extension": ".py",
   "mimetype": "text/x-python",
   "name": "python",
   "nbconvert_exporter": "python",
   "pygments_lexer": "ipython3",
   "version": "3.8.3"
  }
 },
 "nbformat": 4,
 "nbformat_minor": 4
}
